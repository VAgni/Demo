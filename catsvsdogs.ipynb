{
  "nbformat": 4,
  "nbformat_minor": 0,
  "metadata": {
    "colab": {
      "name": "Untitled8.ipynb",
      "version": "0.3.2",
      "provenance": [],
      "collapsed_sections": [],
      "include_colab_link": true
    },
    "kernelspec": {
      "name": "python3",
      "display_name": "Python 3"
    }
  },
  "cells": [
    {
      "cell_type": "markdown",
      "metadata": {
        "id": "view-in-github",
        "colab_type": "text"
      },
      "source": [
        "[View in Colaboratory](https://colab.research.google.com/github/VAgni/Demo/blob/master/catsvsdogs.ipynb)"
      ]
    },
    {
      "metadata": {
        "id": "MbeSIGa-roZl",
        "colab_type": "code",
        "colab": {}
      },
      "cell_type": "code",
      "source": [
        "import numpy as np\n",
        "import os\n",
        "import tensorflow as tf\n",
        "from random import shuffle\n",
        "from tqdm import tqdm\n",
        "import cv2\n"
      ],
      "execution_count": 0,
      "outputs": []
    },
    {
      "metadata": {
        "id": "ZWk25FrEEILT",
        "colab_type": "code",
        "colab": {
          "base_uri": "https://localhost:8080/",
          "height": 128
        },
        "outputId": "4460df5e-beb7-487d-dc1a-bfd345096337"
      },
      "cell_type": "code",
      "source": [
        "from google.colab import drive\n",
        "drive.mount('/content/gdrive')"
      ],
      "execution_count": 2,
      "outputs": [
        {
          "output_type": "stream",
          "text": [
            "Go to this URL in a browser: https://accounts.google.com/o/oauth2/auth?client_id=947318989803-6bn6qk8qdgf4n4g3pfee6491hc0brc4i.apps.googleusercontent.com&redirect_uri=urn%3Aietf%3Awg%3Aoauth%3A2.0%3Aoob&scope=email%20https%3A%2F%2Fwww.googleapis.com%2Fauth%2Fdocs.test%20https%3A%2F%2Fwww.googleapis.com%2Fauth%2Fdrive%20https%3A%2F%2Fwww.googleapis.com%2Fauth%2Fdrive.photos.readonly%20https%3A%2F%2Fwww.googleapis.com%2Fauth%2Fpeopleapi.readonly&response_type=code\n",
            "\n",
            "Enter your authorization code:\n",
            "··········\n",
            "Mounted at /content/gdrive\n"
          ],
          "name": "stdout"
        }
      ]
    },
    {
      "metadata": {
        "id": "LL6j_sEgsFdE",
        "colab_type": "code",
        "colab": {}
      },
      "cell_type": "code",
      "source": [
        "\n",
        "TRAIN_DIR='/content/gdrive/My Drive/train/'\n",
        "IMG_SIZE= 50\n",
        "LR= 1e-3\n",
        "MODEL_NAME= 'dogsvscats-{}-{}.model'.format(LR, '2conv-basic-video')"
      ],
      "execution_count": 0,
      "outputs": []
    },
    {
      "metadata": {
        "id": "h8o5vxx6skaX",
        "colab_type": "text"
      },
      "cell_type": "markdown",
      "source": [
        "NOW WE START DATA PREPROCESSING OF IMAGES"
      ]
    },
    {
      "metadata": {
        "id": "vuS4D5_9sRN1",
        "colab_type": "code",
        "colab": {}
      },
      "cell_type": "code",
      "source": [
        "def label_img(img):\n",
        "  word_label=img.split('.')[0]\n",
        "  if word_label=='cat':return[1,0]\n",
        "  elif word_label=='dog': return[0,1]"
      ],
      "execution_count": 0,
      "outputs": []
    },
    {
      "metadata": {
        "id": "m4W6CRiCt_8y",
        "colab_type": "code",
        "colab": {}
      },
      "cell_type": "code",
      "source": [
        "def create_train_data():\n",
        "  training_data = [] #made an empty array to store the images\n",
        "  for img in tqdm(os.listdir(TRAIN_DIR)): #loop to get all the images from trainig set\n",
        "    label=label_img(img)\n",
        "    path= os.path.join(TRAIN_DIR,img) #giving path from directory to imag\n",
        "    img= cv2.imread(path, cv2.IMREAD_GRAYSCALE)\n",
        "    img= cv2.resize(img, (IMG_SIZE,IMG_SIZE))#reading image from directory and converting it into grayscale \n",
        "    training_data.append([np.array(img), np.array(label)])#appending the label to its corresponding image\n",
        "  shuffle(training_data)# to randomize the data\n",
        "  np.save('train_data.npy', training_data)\n",
        "  return training_data\n",
        "    \n",
        "    "
      ],
      "execution_count": 0,
      "outputs": []
    },
    {
      "metadata": {
        "id": "-RltO8UiHU5Z",
        "colab_type": "code",
        "colab": {}
      },
      "cell_type": "code",
      "source": [
        "def create_test_data():\n",
        "  testing_data = []\n",
        "  for img in tqdm(os.listdir(TEST_DIR)):\n",
        "    path =  os.path.join(TEST_DIR,img)\n",
        "    img_num= img.split('.')[0]\n",
        "    img = cv2.resize(cv2.imread(path, cv2.IMREAD_GRAYSCALE), (IMG_SIZE, IMG_SIZE))\n",
        "  testing_data.append([np.array(img), np.array(img_num)])\n",
        "  np.save('test_data.npy', testing_data)\n",
        "  return testing_data\n",
        "  "
      ],
      "execution_count": 0,
      "outputs": []
    },
    {
      "metadata": {
        "id": "0R-zRg7HBQ2m",
        "colab_type": "code",
        "colab": {
          "base_uri": "https://localhost:8080/",
          "height": 35
        },
        "outputId": "c1677bf8-0576-4d50-91f8-2f28a53bdf2e"
      },
      "cell_type": "code",
      "source": [
        "train_data= create_train_data()"
      ],
      "execution_count": 6,
      "outputs": [
        {
          "output_type": "stream",
          "text": [
            "100%|██████████| 4287/4287 [23:55<00:00,  3.34it/s]\n"
          ],
          "name": "stderr"
        }
      ]
    },
    {
      "metadata": {
        "id": "PKfkR_HZQFoe",
        "colab_type": "code",
        "colab": {
          "base_uri": "https://localhost:8080/",
          "height": 274
        },
        "outputId": "da9f847c-df3f-467d-a3de-581dd06147c5"
      },
      "cell_type": "code",
      "source": [
        "!pip install tflearn"
      ],
      "execution_count": 7,
      "outputs": [
        {
          "output_type": "stream",
          "text": [
            "Collecting tflearn\n",
            "\u001b[?25l  Downloading https://files.pythonhosted.org/packages/16/ec/e9ce1b52e71f6dff3bd944f020cef7140779e783ab27512ea7c7275ddee5/tflearn-0.3.2.tar.gz (98kB)\n",
            "\r\u001b[K    10% |███▎                            | 10kB 13.0MB/s eta 0:00:01\r\u001b[K    20% |██████▋                         | 20kB 1.6MB/s eta 0:00:01\r\u001b[K    31% |██████████                      | 30kB 1.9MB/s eta 0:00:01\r\u001b[K    41% |█████████████▎                  | 40kB 1.7MB/s eta 0:00:01\r\u001b[K    51% |████████████████▋               | 51kB 1.9MB/s eta 0:00:01\r\u001b[K    62% |████████████████████            | 61kB 2.2MB/s eta 0:00:01\r\u001b[K    72% |███████████████████████▎        | 71kB 1.9MB/s eta 0:00:01\r\u001b[K    83% |██████████████████████████▋     | 81kB 2.0MB/s eta 0:00:01\r\u001b[K    93% |██████████████████████████████  | 92kB 2.2MB/s eta 0:00:01\r\u001b[K    100% |████████████████████████████████| 102kB 2.4MB/s \n",
            "\u001b[?25hRequirement already satisfied: numpy in /usr/local/lib/python3.6/dist-packages (from tflearn) (1.14.6)\n",
            "Requirement already satisfied: six in /usr/local/lib/python3.6/dist-packages (from tflearn) (1.11.0)\n",
            "Requirement already satisfied: Pillow in /usr/local/lib/python3.6/dist-packages (from tflearn) (4.0.0)\n",
            "Requirement already satisfied: olefile in /usr/local/lib/python3.6/dist-packages (from Pillow->tflearn) (0.46)\n",
            "Building wheels for collected packages: tflearn\n",
            "  Running setup.py bdist_wheel for tflearn ... \u001b[?25l-\b \b\\\b \bdone\n",
            "\u001b[?25h  Stored in directory: /root/.cache/pip/wheels/d0/f6/69/0ef3ee395aac2e5d15d89efd29a9a216f3c27767b43b72c006\n",
            "Successfully built tflearn\n",
            "Installing collected packages: tflearn\n",
            "Successfully installed tflearn-0.3.2\n"
          ],
          "name": "stdout"
        }
      ]
    },
    {
      "metadata": {
        "id": "rpSHqHnnJBPP",
        "colab_type": "code",
        "colab": {
          "base_uri": "https://localhost:8080/",
          "height": 146
        },
        "outputId": "b2bf1995-f1f8-4372-820e-1a4b9169d79a"
      },
      "cell_type": "code",
      "source": [
        "import tflearn\n",
        "from tflearn.layers.conv import conv_2d, max_pool_2d\n",
        "from tflearn.layers.core import input_data, dropout, fully_connected\n",
        "from tflearn.layers.estimator import regression\n",
        "\n",
        "convnet = input_data(shape=[None, IMG_SIZE, IMG_SIZE, 1], name='input')\n",
        "\n",
        "convnet = conv_2d(convnet, 32, 2, activation='relu')\n",
        "convnet = max_pool_2d(convnet, 2)\n",
        "\n",
        "convnet = conv_2d(convnet, 64, 2, activation='relu')\n",
        "convnet = max_pool_2d(convnet, 2)\n",
        "\n",
        "convnet = fully_connected(convnet, 1024, activation='relu')\n",
        "convnet = dropout(convnet, 0.8)\n",
        "\n",
        "convnet = fully_connected(convnet, 2, activation='softmax')\n",
        "convnet = regression(convnet, optimizer='adam', learning_rate=LR, loss='categorical_crossentropy', name='targets')\n",
        "\n",
        "model = tflearn.DNN(convnet, tensorboard_dir='log')"
      ],
      "execution_count": 8,
      "outputs": [
        {
          "output_type": "stream",
          "text": [
            "WARNING:tensorflow:From /usr/local/lib/python3.6/dist-packages/tflearn/initializations.py:119: UniformUnitScaling.__init__ (from tensorflow.python.ops.init_ops) is deprecated and will be removed in a future version.\n",
            "Instructions for updating:\n",
            "Use tf.initializers.variance_scaling instead with distribution=uniform to get equivalent behavior.\n",
            "WARNING:tensorflow:From /usr/local/lib/python3.6/dist-packages/tflearn/objectives.py:66: calling reduce_sum (from tensorflow.python.ops.math_ops) with keep_dims is deprecated and will be removed in a future version.\n",
            "Instructions for updating:\n",
            "keep_dims is deprecated, use keepdims instead\n"
          ],
          "name": "stdout"
        }
      ]
    },
    {
      "metadata": {
        "id": "jrxSM3_kRAmf",
        "colab_type": "code",
        "colab": {}
      },
      "cell_type": "code",
      "source": [
        "if os.path.exists('{}.meta'.format(MODEL_NAME)):\n",
        "  model.load(MODEL_NAME)\n",
        "  print('model loaded!')\n",
        "\n"
      ],
      "execution_count": 0,
      "outputs": []
    },
    {
      "metadata": {
        "id": "JFspZaN8R_Js",
        "colab_type": "code",
        "colab": {}
      },
      "cell_type": "code",
      "source": [
        "train = train_data[:-500]\n",
        "test = train_data[-500:]\n",
        "X = np.array([i[0] for i in  train]).reshape(-1, IMG_SIZE, IMG_SIZE, 1)\n",
        "Y = [i[1] for i in train]\n",
        "test_x=  np.array([i[0] for i in  test]).reshape(-1, IMG_SIZE, IMG_SIZE, 1)\n",
        "test_y= [i[1] for i in test]\n",
        "\n"
      ],
      "execution_count": 0,
      "outputs": []
    },
    {
      "metadata": {
        "id": "DxcmHf3mWLFm",
        "colab_type": "code",
        "colab": {
          "base_uri": "https://localhost:8080/",
          "height": 108
        },
        "outputId": "b393b29d-00c9-45ef-dcf1-25700bb01ebc"
      },
      "cell_type": "code",
      "source": [
        "model.fit({'input': X}, {'targets': Y}, n_epoch=10, \n",
        "          validation_set=({'input': test_x}, {'targets': test_y}), \n",
        "          snapshot_step=500, show_metric=True, run_id=MODEL_NAME)"
      ],
      "execution_count": 12,
      "outputs": [
        {
          "output_type": "stream",
          "text": [
            "Training Step: 1199  | total loss: \u001b[1m\u001b[32m5.53477\u001b[0m\u001b[0m | time: 19.491s\n",
            "| Adam | epoch: 020 | loss: 5.53477 - acc: 0.7596 -- iter: 3776/3787\n",
            "Training Step: 1200  | total loss: \u001b[1m\u001b[32m5.44901\u001b[0m\u001b[0m | time: 20.822s\n",
            "| Adam | epoch: 020 | loss: 5.44901 - acc: 0.7634 | val_loss: 4.69727 - val_acc: 0.7960 -- iter: 3787/3787\n",
            "--\n"
          ],
          "name": "stdout"
        }
      ]
    },
    {
      "metadata": {
        "id": "2MNnAyJ8FoUG",
        "colab_type": "code",
        "colab": {
          "base_uri": "https://localhost:8080/",
          "height": 35
        },
        "outputId": "5fd31708-41e1-4d77-ecc9-5947c9701db4"
      },
      "cell_type": "code",
      "source": [
        "model.save(MODEL_NAME)"
      ],
      "execution_count": 13,
      "outputs": [
        {
          "output_type": "stream",
          "text": [
            "INFO:tensorflow:/content/dogsvscats-0.001-2conv-basic-video.model is not in all_model_checkpoint_paths. Manually adding it.\n"
          ],
          "name": "stdout"
        }
      ]
    }
  ]
}